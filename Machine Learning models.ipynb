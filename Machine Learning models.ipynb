{
 "cells": [
  {
   "cell_type": "markdown",
   "id": "a6af34c9",
   "metadata": {},
   "source": [
    "https://scikit-learn.org/stable/modules/generated/sklearn.model_selection.train_test_split.html\n",
    "\n",
    "https://imbalanced-learn.org/stable/references/generated/imblearn.pipeline.Pipeline.html\n",
    "\n",
    "https://scikit-learn.org/stable/modules/generated/sklearn.model_selection.LeaveOneGroupOut.html\n",
    "\n",
    "https://imbalanced-learn.org/dev/references/generated/imblearn.over_sampling.SMOTE.html\n",
    "\n",
    "https://scikit-learn.org/stable/modules/generated/sklearn.neighbors.KNeighborsClassifier.html\n",
    "\n",
    "https://scikit-learn.org/stable/modules/generated/sklearn.model_selection.RandomizedSearchCV.html\n",
    "\n",
    "https://scikit-learn.org/stable/modules/generated/sklearn.metrics.accuracy_score.html\n",
    "\n",
    "https://scikit-learn.org/stable/modules/generated/sklearn.metrics.precision_score.html\n",
    "\n",
    "https://scikit-learn.org/stable/modules/generated/sklearn.metrics.recall_score.html\n",
    "\n",
    "https://scikit-learn.org/stable/modules/generated/sklearn.metrics.f1_score.html\n",
    "\n",
    "https://scikit-learn.org/stable/modules/generated/sklearn.metrics.cluster.contingency_matrix.html\n",
    "\n",
    "https://seaborn.pydata.org/generated/seaborn.heatmap.html\n",
    "\n",
    "\n",
    "\n",
    "\n",
    "\n",
    "https://scikit-learn.org/stable/modules/generated/sklearn.ensemble.RandomForestClassifier.html\n",
    "\n",
    "https://scikit-learn.org/stable/modules/generated/sklearn.ensemble.GradientBoostingClassifier.html"
   ]
  },
  {
   "cell_type": "code",
   "execution_count": 1,
   "id": "4f87c863",
   "metadata": {},
   "outputs": [],
   "source": [
    "# Gradient Boost (learning rate = 0.4, maximum tree depth = 2, number of estimators = 100)\n",
    "# Random Forest (number of estimators = 20, maximum tree depth = 10)\n",
    "# KNN (k = 3)"
   ]
  },
  {
   "cell_type": "code",
   "execution_count": 2,
   "id": "4c4c9f69",
   "metadata": {},
   "outputs": [],
   "source": [
    "import pandas as pd \n",
    "import numpy as np\n",
    "from sklearn.model_selection import train_test_split\n",
    "from imblearn.pipeline import Pipeline\n",
    "from imblearn.over_sampling import SMOTE\n",
    "from sklearn.model_selection import LeaveOneGroupOut\n",
    "from sklearn.neighbors import KNeighborsClassifier\n",
    "from sklearn.model_selection import RandomizedSearchCV\n",
    "from sklearn.metrics import make_scorer\n",
    "from sklearn.metrics import accuracy_score\n",
    "from sklearn.metrics import precision_score\n",
    "from sklearn.metrics import recall_score\n",
    "from sklearn.metrics import f1_score\n",
    "from sklearn.metrics.cluster import contingency_matrix"
   ]
  },
  {
   "cell_type": "code",
   "execution_count": 3,
   "id": "b8cac02a",
   "metadata": {},
   "outputs": [
    {
     "data": {
      "text/html": [
       "<div>\n",
       "<style scoped>\n",
       "    .dataframe tbody tr th:only-of-type {\n",
       "        vertical-align: middle;\n",
       "    }\n",
       "\n",
       "    .dataframe tbody tr th {\n",
       "        vertical-align: top;\n",
       "    }\n",
       "\n",
       "    .dataframe thead th {\n",
       "        text-align: right;\n",
       "    }\n",
       "</style>\n",
       "<table border=\"1\" class=\"dataframe\">\n",
       "  <thead>\n",
       "    <tr style=\"text-align: right;\">\n",
       "      <th></th>\n",
       "      <th>SubjectID</th>\n",
       "      <th>Fall</th>\n",
       "      <th>Acc_x_mean</th>\n",
       "      <th>Acc_y_mean</th>\n",
       "      <th>Acc_z_mean</th>\n",
       "      <th>Acc_x_sd</th>\n",
       "      <th>Acc_y_sd</th>\n",
       "      <th>Acc_z_sd</th>\n",
       "      <th>Acc_x_range</th>\n",
       "      <th>Acc_y_range</th>\n",
       "      <th>Acc_z_range</th>\n",
       "      <th>Gyr_x_mean</th>\n",
       "      <th>Gyr_y_mean</th>\n",
       "      <th>Gyr_z_mean</th>\n",
       "      <th>Gyr_x_sd</th>\n",
       "      <th>Gyr_y_sd</th>\n",
       "      <th>Gyr_z_sd</th>\n",
       "      <th>Gyr_x_range</th>\n",
       "      <th>Gyr_y_range</th>\n",
       "      <th>Gyr_z_range</th>\n",
       "    </tr>\n",
       "  </thead>\n",
       "  <tbody>\n",
       "    <tr>\n",
       "      <th>0</th>\n",
       "      <td>1</td>\n",
       "      <td>0</td>\n",
       "      <td>3957.583403</td>\n",
       "      <td>190.906723</td>\n",
       "      <td>-365.076681</td>\n",
       "      <td>229.682115</td>\n",
       "      <td>248.881604</td>\n",
       "      <td>605.694447</td>\n",
       "      <td>1912</td>\n",
       "      <td>2515</td>\n",
       "      <td>3310</td>\n",
       "      <td>-92.959034</td>\n",
       "      <td>72.513655</td>\n",
       "      <td>15.962815</td>\n",
       "      <td>439.512094</td>\n",
       "      <td>155.406739</td>\n",
       "      <td>85.068883</td>\n",
       "      <td>2987</td>\n",
       "      <td>1778</td>\n",
       "      <td>1282</td>\n",
       "    </tr>\n",
       "    <tr>\n",
       "      <th>1</th>\n",
       "      <td>1</td>\n",
       "      <td>0</td>\n",
       "      <td>3960.485084</td>\n",
       "      <td>173.745798</td>\n",
       "      <td>-146.708824</td>\n",
       "      <td>134.063126</td>\n",
       "      <td>177.295636</td>\n",
       "      <td>583.398813</td>\n",
       "      <td>1314</td>\n",
       "      <td>1057</td>\n",
       "      <td>3140</td>\n",
       "      <td>-59.317017</td>\n",
       "      <td>75.186975</td>\n",
       "      <td>15.859874</td>\n",
       "      <td>54.685623</td>\n",
       "      <td>187.790185</td>\n",
       "      <td>29.422086</td>\n",
       "      <td>1454</td>\n",
       "      <td>2280</td>\n",
       "      <td>375</td>\n",
       "    </tr>\n",
       "    <tr>\n",
       "      <th>2</th>\n",
       "      <td>1</td>\n",
       "      <td>0</td>\n",
       "      <td>3985.363025</td>\n",
       "      <td>6.908824</td>\n",
       "      <td>-169.003571</td>\n",
       "      <td>254.015266</td>\n",
       "      <td>184.908416</td>\n",
       "      <td>497.555987</td>\n",
       "      <td>2499</td>\n",
       "      <td>1448</td>\n",
       "      <td>3311</td>\n",
       "      <td>17.923109</td>\n",
       "      <td>77.285924</td>\n",
       "      <td>10.892437</td>\n",
       "      <td>539.551233</td>\n",
       "      <td>180.658416</td>\n",
       "      <td>66.893825</td>\n",
       "      <td>3497</td>\n",
       "      <td>2634</td>\n",
       "      <td>881</td>\n",
       "    </tr>\n",
       "    <tr>\n",
       "      <th>3</th>\n",
       "      <td>1</td>\n",
       "      <td>0</td>\n",
       "      <td>3963.853992</td>\n",
       "      <td>212.468487</td>\n",
       "      <td>-124.448950</td>\n",
       "      <td>167.420631</td>\n",
       "      <td>102.895606</td>\n",
       "      <td>536.513281</td>\n",
       "      <td>1787</td>\n",
       "      <td>760</td>\n",
       "      <td>3238</td>\n",
       "      <td>-47.699580</td>\n",
       "      <td>78.401681</td>\n",
       "      <td>7.674160</td>\n",
       "      <td>78.917961</td>\n",
       "      <td>192.556151</td>\n",
       "      <td>33.213783</td>\n",
       "      <td>1022</td>\n",
       "      <td>2520</td>\n",
       "      <td>515</td>\n",
       "    </tr>\n",
       "    <tr>\n",
       "      <th>4</th>\n",
       "      <td>1</td>\n",
       "      <td>0</td>\n",
       "      <td>3931.365966</td>\n",
       "      <td>-418.005882</td>\n",
       "      <td>342.455882</td>\n",
       "      <td>237.777500</td>\n",
       "      <td>211.257231</td>\n",
       "      <td>520.121732</td>\n",
       "      <td>2236</td>\n",
       "      <td>1766</td>\n",
       "      <td>3856</td>\n",
       "      <td>-81.173950</td>\n",
       "      <td>67.378992</td>\n",
       "      <td>12.685294</td>\n",
       "      <td>523.609743</td>\n",
       "      <td>192.802506</td>\n",
       "      <td>113.943033</td>\n",
       "      <td>3254</td>\n",
       "      <td>1578</td>\n",
       "      <td>1075</td>\n",
       "    </tr>\n",
       "  </tbody>\n",
       "</table>\n",
       "</div>"
      ],
      "text/plain": [
       "   SubjectID  Fall   Acc_x_mean  Acc_y_mean  Acc_z_mean    Acc_x_sd  \\\n",
       "0          1     0  3957.583403  190.906723 -365.076681  229.682115   \n",
       "1          1     0  3960.485084  173.745798 -146.708824  134.063126   \n",
       "2          1     0  3985.363025    6.908824 -169.003571  254.015266   \n",
       "3          1     0  3963.853992  212.468487 -124.448950  167.420631   \n",
       "4          1     0  3931.365966 -418.005882  342.455882  237.777500   \n",
       "\n",
       "     Acc_y_sd    Acc_z_sd  Acc_x_range  Acc_y_range  Acc_z_range  Gyr_x_mean  \\\n",
       "0  248.881604  605.694447         1912         2515         3310  -92.959034   \n",
       "1  177.295636  583.398813         1314         1057         3140  -59.317017   \n",
       "2  184.908416  497.555987         2499         1448         3311   17.923109   \n",
       "3  102.895606  536.513281         1787          760         3238  -47.699580   \n",
       "4  211.257231  520.121732         2236         1766         3856  -81.173950   \n",
       "\n",
       "   Gyr_y_mean  Gyr_z_mean    Gyr_x_sd    Gyr_y_sd    Gyr_z_sd  Gyr_x_range  \\\n",
       "0   72.513655   15.962815  439.512094  155.406739   85.068883         2987   \n",
       "1   75.186975   15.859874   54.685623  187.790185   29.422086         1454   \n",
       "2   77.285924   10.892437  539.551233  180.658416   66.893825         3497   \n",
       "3   78.401681    7.674160   78.917961  192.556151   33.213783         1022   \n",
       "4   67.378992   12.685294  523.609743  192.802506  113.943033         3254   \n",
       "\n",
       "   Gyr_y_range  Gyr_z_range  \n",
       "0         1778         1282  \n",
       "1         2280          375  \n",
       "2         2634          881  \n",
       "3         2520          515  \n",
       "4         1578         1075  "
      ]
     },
     "execution_count": 3,
     "metadata": {},
     "output_type": "execute_result"
    }
   ],
   "source": [
    "Neck = pd.read_pickle('Neck.pkl')\n",
    "Neck.head()"
   ]
  },
  {
   "cell_type": "code",
   "execution_count": 24,
   "id": "b84c4c72",
   "metadata": {},
   "outputs": [
    {
     "name": "stdout",
     "output_type": "stream",
     "text": [
      "Best parameters: {'smote__k_neighbors': 5, 'knn__weights': 'distance', 'knn__p': 1, 'knn__n_neighbors': 6}\n",
      "Best accuracy: 0.8633031340935107\n",
      "Best precision: 0.9011509307150741\n",
      "Best recall: 0.8633031340935107\n",
      "Best F1 score: 0.869747716676957\n"
     ]
    }
   ],
   "source": [
    "Neck = pd.read_pickle('Neck.pkl')\n",
    "X = Neck[['SubjectID', 'Acc_x_mean', 'Acc_y_mean', 'Acc_z_mean', 'Acc_x_sd', 'Acc_y_sd', 'Acc_z_sd', 'Acc_x_range', 'Acc_y_range', \n",
    "          'Acc_z_range', 'Gyr_x_mean', 'Gyr_y_mean', 'Gyr_z_mean', 'Gyr_x_sd', 'Gyr_y_sd', 'Gyr_z_sd', 'Gyr_x_range',\n",
    "          'Gyr_y_range', 'Gyr_z_range']].values\n",
    "y = Neck['Fall'].values\n",
    "\n",
    "X_train, X_test, y_train, y_test = train_test_split(X, y, test_size=0.2, random_state=0)\n",
    "\n",
    "smote = SMOTE(random_state=0)\n",
    "knn = KNeighborsClassifier()\n",
    "pipeline = Pipeline([('smote', smote), ('knn', knn)])\n",
    "\n",
    "param_grid = {'knn__n_neighbors': [1, 2, 3, 4, 5, 6, 7, 8, 9, 10, 11, 12, 13, 14, 15, 16, 17, 18, 19, 20], \n",
    "              'knn__weights': ['uniform', 'distance'],\n",
    "              'knn__p': [1, 2, 3],\n",
    "              'smote__k_neighbors': [1, 2, 3, 4, 5, 6, 7, 8, 9, 10]}\n",
    "\n",
    "# 'SubjectID' are the groups\n",
    "groups = X_train[:, 0]\n",
    "logo = LeaveOneGroupOut()\n",
    "\n",
    "# remove 'SubjectID' from training and testing data\n",
    "X_train = np.delete(X_train, 0, axis = 1)\n",
    "X_test = np.delete(X_test, 0, axis = 1)\n",
    "\n",
    "scorers = {'accuracy': 'accuracy',\n",
    "    'precision': make_scorer(precision_score, average='weighted'),\n",
    "    'recall': make_scorer(recall_score, average='weighted'),\n",
    "    'f1_score': make_scorer(f1_score, average='weighted')}\n",
    "\n",
    "random_search_neck = RandomizedSearchCV(pipeline, param_distributions=param_grid, n_iter=10, cv=logo, scoring=scorers, \n",
    "                                   refit='f1_score', random_state=0)\n",
    "random_search_neck.fit(X_train, y_train, groups=groups)\n",
    "\n",
    "print(\"Best parameters:\", random_search_neck.best_params_)\n",
    "print(\"Best accuracy:\", random_search_neck.cv_results_['mean_test_accuracy'][random_search_neck.best_index_])\n",
    "print(\"Best precision:\", random_search_neck.cv_results_['mean_test_precision'][random_search_neck.best_index_])\n",
    "print(\"Best recall:\", random_search_neck.cv_results_['mean_test_recall'][random_search_neck.best_index_])\n",
    "print(\"Best F1 score:\", random_search_neck.cv_results_['mean_test_f1_score'][random_search_neck.best_index_])"
   ]
  },
  {
   "cell_type": "code",
   "execution_count": 36,
   "id": "44442d4d",
   "metadata": {},
   "outputs": [
    {
     "name": "stdout",
     "output_type": "stream",
     "text": [
      "Accuracy: 0.9256594724220624\n",
      "Precision: 0.9349730193169727\n",
      "Recall: 0.9256594724220624\n",
      "F1-score: 0.9272956432491859\n"
     ]
    },
    {
     "data": {
      "text/plain": [
       "<AxesSubplot:>"
      ]
     },
     "execution_count": 36,
     "metadata": {},
     "output_type": "execute_result"
    },
    {
     "data": {
      "image/png": "[encoded data removed]",
      "text/plain": [
       "<Figure size 432x288 with 2 Axes>"
      ]
     },
     "metadata": {
      "needs_background": "light"
     },
     "output_type": "display_data"
    }
   ],
   "source": [
    "y_pred = random_search_neck.predict(X_test)\n",
    "print(\"Accuracy:\", accuracy_score(y_test, y_pred))\n",
    "print(\"Precision:\", precision_score(y_test, y_pred, average = 'weighted'))\n",
    "print(\"Recall:\", recall_score(y_test, y_pred, average = 'weighted'))\n",
    "print(\"F1-score:\", f1_score(y_test, y_pred, average = 'weighted'))\n",
    "matrix = contingency_matrix(y_test, y_pred)\n",
    "# sns.heatmap(matrix, annot=True, fmt=\".0f\")"
   ]
  },
  {
   "cell_type": "code",
   "execution_count": 44,
   "id": "acd594bd",
   "metadata": {},
   "outputs": [
    {
     "name": "stdout",
     "output_type": "stream",
     "text": [
      "Best parameters: {'smote__k_neighbors': 6, 'knn__weights': 'distance', 'knn__n_neighbors': 8}\n",
      "Best accuracy: 0.8625635236586515\n",
      "Best precision: 0.894786178955767\n",
      "Best recall: 0.8625635236586515\n",
      "Best F1 score: 0.8665920046900026\n"
     ]
    }
   ],
   "source": [
    "Waist = pd.read_pickle('Waist.pkl')\n",
    "X = Waist[['Acc_x_mean', 'Acc_y_mean', 'Acc_z_mean', 'Acc_x_sd', 'Acc_y_sd', 'Acc_z_sd', 'Acc_x_range', 'Acc_y_range', \n",
    "          'Acc_z_range', 'Gyr_x_mean', 'Gyr_y_mean', 'Gyr_z_mean', 'Gyr_x_sd', 'Gyr_y_sd', 'Gyr_z_sd', 'Gyr_x_range',\n",
    "          'Gyr_y_range', 'Gyr_z_range']].values\n",
    "y = Waist['Fall'].values\n",
    "\n",
    "smote = SMOTE(random_state=0)\n",
    "knn = KNeighborsClassifier()\n",
    "pipeline = Pipeline([('smote', smote), ('knn', knn)])\n",
    "\n",
    "param_grid = {'knn__n_neighbors': [1, 2, 3, 4, 5, 6, 7, 8, 9, 10, 11, 12, 13, 14, 15, 16, 17, 18, 19, 20], \n",
    "              'knn__weights': ['uniform', 'distance'],\n",
    "              'smote__k_neighbors': [1, 2, 3, 4, 5, 6, 7, 8, 9, 10]}\n",
    "\n",
    "groups = Waist['SubjectID']\n",
    "logo = LeaveOneGroupOut()\n",
    "\n",
    "scorers = {'accuracy': 'accuracy',\n",
    "    'precision': make_scorer(precision_score, average='weighted'),\n",
    "    'recall': make_scorer(recall_score, average='weighted'),\n",
    "    'f1_score': make_scorer(f1_score, average='weighted')}\n",
    "\n",
    "random_search_waist = RandomizedSearchCV(pipeline, param_distributions=param_grid, n_iter=10, cv=logo, scoring=scorers, \n",
    "                                   refit='f1_score', random_state=0)\n",
    "random_search_waist.fit(X, y, groups=groups)\n",
    "\n",
    "print(\"Best parameters:\", random_search_waist.best_params_)\n",
    "print(\"Best accuracy:\", random_search_waist.cv_results_['mean_test_accuracy'][random_search.best_index_])\n",
    "print(\"Best precision:\", random_search_waist.cv_results_['mean_test_precision'][random_search.best_index_])\n",
    "print(\"Best recall:\", random_search_waist.cv_results_['mean_test_recall'][random_search.best_index_])\n",
    "print(\"Best F1 score:\", random_search_waist.cv_results_['mean_test_f1_score'][random_search.best_index_])"
   ]
  },
  {
   "cell_type": "code",
   "execution_count": 45,
   "id": "2a009a45",
   "metadata": {},
   "outputs": [
    {
     "name": "stdout",
     "output_type": "stream",
     "text": [
      "Best parameters: {'smote__k_neighbors': 1, 'knn__weights': 'uniform', 'knn__n_neighbors': 4}\n",
      "Best accuracy: 0.8270829723070234\n",
      "Best precision: 0.889716698713809\n",
      "Best recall: 0.8270829723070234\n",
      "Best F1 score: 0.8390477747206355\n"
     ]
    }
   ],
   "source": [
    "Wrist = pd.read_pickle('Wrist.pkl')\n",
    "X = Wrist[['Acc_x_mean', 'Acc_y_mean', 'Acc_z_mean', 'Acc_x_sd', 'Acc_y_sd', 'Acc_z_sd', 'Acc_x_range', 'Acc_y_range', \n",
    "          'Acc_z_range', 'Gyr_x_mean', 'Gyr_y_mean', 'Gyr_z_mean', 'Gyr_x_sd', 'Gyr_y_sd', 'Gyr_z_sd', 'Gyr_x_range',\n",
    "          'Gyr_y_range', 'Gyr_z_range']].values\n",
    "y = Wrist['Fall'].values\n",
    "\n",
    "smote = SMOTE(random_state=0)\n",
    "knn = KNeighborsClassifier()\n",
    "pipeline = Pipeline([('smote', smote), ('knn', knn)])\n",
    "\n",
    "param_grid = {'knn__n_neighbors': [1, 2, 3, 4, 5, 6, 7, 8, 9, 10, 11, 12, 13, 14, 15, 16, 17, 18, 19, 20], \n",
    "              'knn__weights': ['uniform', 'distance'], \n",
    "              'smote__k_neighbors': [1, 2, 3, 4, 5, 6, 7, 8, 9, 10]}\n",
    "\n",
    "groups = Wrist['SubjectID']\n",
    "logo = LeaveOneGroupOut()\n",
    "\n",
    "scorers = {'accuracy': 'accuracy',\n",
    "    'precision': make_scorer(precision_score, average='weighted'),\n",
    "    'recall': make_scorer(recall_score, average='weighted'),\n",
    "    'f1_score': make_scorer(f1_score, average='weighted')}\n",
    "\n",
    "random_search_wrist = RandomizedSearchCV(pipeline, param_distributions=param_grid, n_iter=10, cv=logo, scoring=scorers, \n",
    "                                   refit='f1_score', random_state=0)\n",
    "random_search_wrist.fit(X, y, groups=groups)\n",
    "\n",
    "print(\"Best parameters:\", random_search_wrist.best_params_)\n",
    "print(\"Best accuracy:\", random_search_wrist.cv_results_['mean_test_accuracy'][random_search.best_index_])\n",
    "print(\"Best precision:\", random_search_wrist.cv_results_['mean_test_precision'][random_search.best_index_])\n",
    "print(\"Best recall:\", random_search_wrist.cv_results_['mean_test_recall'][random_search.best_index_])\n",
    "print(\"Best F1 score:\", random_search_wrist.cv_results_['mean_test_f1_score'][random_search.best_index_])"
   ]
  },
  {
   "cell_type": "code",
   "execution_count": 46,
   "id": "ac4ac0f1",
   "metadata": {},
   "outputs": [
    {
     "data": {
      "text/plain": [
       "[Text(0.5, 1.0, 'F1-score')]"
      ]
     },
     "execution_count": 46,
     "metadata": {},
     "output_type": "execute_result"
    },
    {
     "data": {
      "image/png": "[encoded data removed]",
      "text/plain": [
       "<Figure size 1080x216 with 4 Axes>"
      ]
     },
     "metadata": {
      "needs_background": "light"
     },
     "output_type": "display_data"
    }
   ],
   "source": [
    "# import matplotlib.pyplot as plt\n",
    "\n",
    "# x_plot = ['Neck', 'Waist', 'Wrist']\n",
    "# accuracy = [random_search_neck.cv_results_['mean_test_accuracy'][random_search.best_index_],\n",
    "#             random_search_waist.cv_results_['mean_test_accuracy'][random_search.best_index_],\n",
    "#             random_search_wrist.cv_results_['mean_test_accuracy'][random_search.best_index_]]\n",
    "# precision = [random_search_neck.cv_results_['mean_test_accuracy'][random_search.best_index_],\n",
    "#              random_search_waist.cv_results_['mean_test_accuracy'][random_search.best_index_],\n",
    "#              random_search_wrist.cv_results_['mean_test_accuracy'][random_search.best_index_]]\n",
    "# recall = [random_search_neck.cv_results_['mean_test_accuracy'][random_search.best_index_],\n",
    "#           random_search_waist.cv_results_['mean_test_accuracy'][random_search.best_index_],\n",
    "#           random_search_wrist.cv_results_['mean_test_accuracy'][random_search.best_index_]]\n",
    "# f1 = [random_search_neck.cv_results_['mean_test_accuracy'][random_search.best_index_],\n",
    "#       random_search_waist.cv_results_['mean_test_accuracy'][random_search.best_index_],\n",
    "#       random_search_wrist.cv_results_['mean_test_accuracy'][random_search.best_index_]]\n",
    "\n",
    "# fig, axs = plt.subplots(1, 4, figsize=(15, 3))\n",
    "# axs[0].bar(x_plot, accuracy)\n",
    "# axs[0].set(title='Accuracy')\n",
    "# axs[1].bar(x_plot, precision)\n",
    "# axs[1].set(title='Precision')\n",
    "# axs[2].bar(x_plot, recall)\n",
    "# axs[2].set(title='Recall')\n",
    "# axs[3].bar(x_plot, f1)\n",
    "# axs[3].set(title='F1-score')"
   ]
  },
  {
   "cell_type": "code",
   "execution_count": 47,
   "id": "a5d898da",
   "metadata": {},
   "outputs": [
    {
     "data": {
      "text/plain": [
       "<matplotlib.legend.Legend at 0x1686c166dc0>"
      ]
     },
     "execution_count": 47,
     "metadata": {},
     "output_type": "execute_result"
    },
    {
     "data": {
      "image/png": "[encoded data removed]",
      "text/plain": [
       "<Figure size 432x288 with 1 Axes>"
      ]
     },
     "metadata": {
      "needs_background": "light"
     },
     "output_type": "display_data"
    }
   ],
   "source": [
    "# import matplotlib.pyplot as plt\n",
    "\n",
    "# x_plot = ['Neck', 'Waist', 'Wrist']\n",
    "# accuracy = [random_search_neck.cv_results_['mean_test_accuracy'][random_search.best_index_],\n",
    "#             random_search_waist.cv_results_['mean_test_accuracy'][random_search.best_index_],\n",
    "#             random_search_wrist.cv_results_['mean_test_accuracy'][random_search.best_index_]]\n",
    "# precision = [random_search_neck.cv_results_['mean_test_accuracy'][random_search.best_index_],\n",
    "#              random_search_waist.cv_results_['mean_test_accuracy'][random_search.best_index_],\n",
    "#              random_search_wrist.cv_results_['mean_test_accuracy'][random_search.best_index_]]\n",
    "# recall = [random_search_neck.cv_results_['mean_test_accuracy'][random_search.best_index_],\n",
    "#           random_search_waist.cv_results_['mean_test_accuracy'][random_search.best_index_],\n",
    "#           random_search_wrist.cv_results_['mean_test_accuracy'][random_search.best_index_]]\n",
    "# f1 = [random_search_neck.cv_results_['mean_test_accuracy'][random_search.best_index_],\n",
    "#       random_search_waist.cv_results_['mean_test_accuracy'][random_search.best_index_],\n",
    "#       random_search_wrist.cv_results_['mean_test_accuracy'][random_search.best_index_]]\n",
    "\n",
    "# bar_width = 0.2\n",
    "# r1 = range(len(x_plot))\n",
    "# r2 = [x + bar_width for x in r1]\n",
    "# r3 = [x + bar_width for x in r2]\n",
    "# r4 = [x + bar_width for x in r3]\n",
    "\n",
    "# plt.bar(r1, accuracy, color='b', width=bar_width, edgecolor='grey', label='Accuracy')\n",
    "# plt.bar(r2, precision, color='g', width=bar_width, edgecolor='grey', label='Precision')\n",
    "# plt.bar(r3, recall, color='r', width=bar_width, edgecolor='grey', label='Recall')\n",
    "# plt.bar(r4, f1, color='orange', width=bar_width, edgecolor='grey', label='F1 Score')\n",
    "\n",
    "# plt.xticks([r + bar_width + 0.1 for r in range(len(x_plot))], x_plot)\n",
    "# plt.legend()"
   ]
  }
 ],
 "metadata": {
  "kernelspec": {
   "display_name": "Python 3",
   "language": "python",
   "name": "python3"
  },
  "language_info": {
   "codemirror_mode": {
    "name": "ipython",
    "version": 3
   },
   "file_extension": ".py",
   "mimetype": "text/x-python",
   "name": "python",
   "nbconvert_exporter": "python",
   "pygments_lexer": "ipython3",
   "version": "3.8.8"
  }
 },
 "nbformat": 4,
 "nbformat_minor": 5
}
